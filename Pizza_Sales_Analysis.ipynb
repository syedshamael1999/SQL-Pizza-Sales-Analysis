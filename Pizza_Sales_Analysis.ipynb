{
    "metadata": {
        "kernelspec": {
            "name": "SQL",
            "display_name": "SQL",
            "language": "sql"
        },
        "language_info": {
            "name": "sql",
            "version": ""
        }
    },
    "nbformat_minor": 2,
    "nbformat": 4,
    "cells": [
        {
            "cell_type": "code",
            "source": [
                "--Total Revenue\r\n",
                "SELECT SUM(total_price) AS Total_Price\r\n",
                "FROM pizza_sales"
            ],
            "metadata": {
                "azdata_cell_guid": "661630d1-120e-466c-b86a-c3b7e5fe5508",
                "language": "sql"
            },
            "outputs": [
                {
                    "output_type": "display_data",
                    "data": {
                        "text/html": "(1 row affected)"
                    },
                    "metadata": {}
                },
                {
                    "output_type": "display_data",
                    "data": {
                        "text/html": "Total execution time: 00:00:00.061"
                    },
                    "metadata": {}
                },
                {
                    "output_type": "execute_result",
                    "metadata": {},
                    "execution_count": 1,
                    "data": {
                        "application/vnd.dataresource+json": {
                            "schema": {
                                "fields": [
                                    {
                                        "name": "Total_Price"
                                    }
                                ]
                            },
                            "data": [
                                {
                                    "Total_Price": "817860.0508384705"
                                }
                            ]
                        },
                        "text/html": [
                            "<table>",
                            "<tr><th>Total_Price</th></tr>",
                            "<tr><td>817860.0508384705</td></tr>",
                            "</table>"
                        ]
                    }
                }
            ],
            "execution_count": 1
        },
        {
            "cell_type": "code",
            "source": [
                "--Total Revenue\r\n",
                "SELECT SUM(total_price) AS Total_Price\r\n",
                "FROM pizza_sales"
            ],
            "metadata": {
                "azdata_cell_guid": "cfa391f3-e032-4638-923e-d27bd7c8dcda",
                "language": "sql"
            },
            "outputs": [
                {
                    "output_type": "display_data",
                    "data": {
                        "text/html": "(1 row affected)"
                    },
                    "metadata": {}
                },
                {
                    "output_type": "display_data",
                    "data": {
                        "text/html": "Total execution time: 00:00:00.028"
                    },
                    "metadata": {}
                },
                {
                    "output_type": "execute_result",
                    "metadata": {},
                    "execution_count": 2,
                    "data": {
                        "application/vnd.dataresource+json": {
                            "schema": {
                                "fields": [
                                    {
                                        "name": "Total_Price"
                                    }
                                ]
                            },
                            "data": [
                                {
                                    "Total_Price": "817860.0508384705"
                                }
                            ]
                        },
                        "text/html": [
                            "<table>",
                            "<tr><th>Total_Price</th></tr>",
                            "<tr><td>817860.0508384705</td></tr>",
                            "</table>"
                        ]
                    }
                }
            ],
            "execution_count": 2
        },
        {
            "cell_type": "code",
            "source": [
                "--Total Pizzas Sold \r\n",
                "SELECT SUM(quantity) AS Total_Pizzas_Sold\r\n",
                "FROM pizza_sales"
            ],
            "metadata": {
                "azdata_cell_guid": "6dfef7b4-99e2-4d72-9492-745778e088b9",
                "language": "sql"
            },
            "outputs": [
                {
                    "output_type": "display_data",
                    "data": {
                        "text/html": "(1 row affected)"
                    },
                    "metadata": {}
                },
                {
                    "output_type": "display_data",
                    "data": {
                        "text/html": "Total execution time: 00:00:00.037"
                    },
                    "metadata": {}
                },
                {
                    "output_type": "execute_result",
                    "metadata": {},
                    "execution_count": 3,
                    "data": {
                        "application/vnd.dataresource+json": {
                            "schema": {
                                "fields": [
                                    {
                                        "name": "Total_Pizzas_Sold"
                                    }
                                ]
                            },
                            "data": [
                                {
                                    "Total_Pizzas_Sold": "49574"
                                }
                            ]
                        },
                        "text/html": [
                            "<table>",
                            "<tr><th>Total_Pizzas_Sold</th></tr>",
                            "<tr><td>49574</td></tr>",
                            "</table>"
                        ]
                    }
                }
            ],
            "execution_count": 3
        },
        {
            "cell_type": "code",
            "source": [
                "--Total Orders \r\n",
                "SELECT COUNT(DISTINCT order_id) AS Total_orders\r\n",
                "FROM pizza_sales"
            ],
            "metadata": {
                "azdata_cell_guid": "00167d45-c363-4402-89aa-c03cac76e250",
                "language": "sql"
            },
            "outputs": [
                {
                    "output_type": "display_data",
                    "data": {
                        "text/html": "(1 row affected)"
                    },
                    "metadata": {}
                },
                {
                    "output_type": "display_data",
                    "data": {
                        "text/html": "Total execution time: 00:00:00.063"
                    },
                    "metadata": {}
                },
                {
                    "output_type": "execute_result",
                    "metadata": {},
                    "execution_count": 4,
                    "data": {
                        "application/vnd.dataresource+json": {
                            "schema": {
                                "fields": [
                                    {
                                        "name": "Total_orders"
                                    }
                                ]
                            },
                            "data": [
                                {
                                    "Total_orders": "21350"
                                }
                            ]
                        },
                        "text/html": [
                            "<table>",
                            "<tr><th>Total_orders</th></tr>",
                            "<tr><td>21350</td></tr>",
                            "</table>"
                        ]
                    }
                }
            ],
            "execution_count": 4
        },
        {
            "cell_type": "code",
            "source": [
                "--Avg Pizzas Sold per Order  - (Tot No of Pizzas Sold / Total No of Orders) \r\n",
                "SELECT CAST(CAST(SUM(quantity) AS DECIMAL(10,2)) /\r\n",
                "CAST(COUNT(DISTINCT order_id) AS DECIMAL(10,2)) AS DECIMAL(10,2))\r\n",
                "AS Avg_Pizzas_per_Order\r\n",
                "FROM pizza_sales"
            ],
            "metadata": {
                "azdata_cell_guid": "1176daa8-8c6b-447d-866b-3ea3305072f9",
                "language": "sql"
            },
            "outputs": [
                {
                    "output_type": "display_data",
                    "data": {
                        "text/html": "(1 row affected)"
                    },
                    "metadata": {}
                },
                {
                    "output_type": "display_data",
                    "data": {
                        "text/html": "Total execution time: 00:00:00.062"
                    },
                    "metadata": {}
                },
                {
                    "output_type": "execute_result",
                    "metadata": {},
                    "execution_count": 5,
                    "data": {
                        "application/vnd.dataresource+json": {
                            "schema": {
                                "fields": [
                                    {
                                        "name": "Avg_Pizzas_per_Order"
                                    }
                                ]
                            },
                            "data": [
                                {
                                    "Avg_Pizzas_per_Order": "2.32"
                                }
                            ]
                        },
                        "text/html": [
                            "<table>",
                            "<tr><th>Avg_Pizzas_per_Order</th></tr>",
                            "<tr><td>2.32</td></tr>",
                            "</table>"
                        ]
                    }
                }
            ],
            "execution_count": 5
        },
        {
            "cell_type": "code",
            "source": [
                "--Hourly Trend for total orders\r\n",
                "SELECT DATEPART(HOUR, order_time) AS Order_hours, COUNT(DISTINCT order_id) \r\n",
                "AS Total_Orders\r\n",
                "FROM pizza_sales\r\n",
                "GROUP BY DATEPART(HOUR, order_time)\r\n",
                "ORDER BY DATEPART(HOUR, order_time)"
            ],
            "metadata": {
                "azdata_cell_guid": "cd4dedc9-996b-42f7-b693-7a7cd984e811",
                "language": "sql"
            },
            "outputs": [
                {
                    "output_type": "display_data",
                    "data": {
                        "text/html": "(15 rows affected)"
                    },
                    "metadata": {}
                },
                {
                    "output_type": "display_data",
                    "data": {
                        "text/html": "Total execution time: 00:00:00.078"
                    },
                    "metadata": {}
                },
                {
                    "output_type": "execute_result",
                    "metadata": {},
                    "execution_count": 6,
                    "data": {
                        "application/vnd.dataresource+json": {
                            "schema": {
                                "fields": [
                                    {
                                        "name": "Order_hours"
                                    },
                                    {
                                        "name": "Total_Orders"
                                    }
                                ]
                            },
                            "data": [
                                {
                                    "Order_hours": "9",
                                    "Total_Orders": "1"
                                },
                                {
                                    "Order_hours": "10",
                                    "Total_Orders": "8"
                                },
                                {
                                    "Order_hours": "11",
                                    "Total_Orders": "1231"
                                },
                                {
                                    "Order_hours": "12",
                                    "Total_Orders": "2520"
                                },
                                {
                                    "Order_hours": "13",
                                    "Total_Orders": "2455"
                                },
                                {
                                    "Order_hours": "14",
                                    "Total_Orders": "1472"
                                },
                                {
                                    "Order_hours": "15",
                                    "Total_Orders": "1468"
                                },
                                {
                                    "Order_hours": "16",
                                    "Total_Orders": "1920"
                                },
                                {
                                    "Order_hours": "17",
                                    "Total_Orders": "2336"
                                },
                                {
                                    "Order_hours": "18",
                                    "Total_Orders": "2399"
                                },
                                {
                                    "Order_hours": "19",
                                    "Total_Orders": "2009"
                                },
                                {
                                    "Order_hours": "20",
                                    "Total_Orders": "1642"
                                },
                                {
                                    "Order_hours": "21",
                                    "Total_Orders": "1198"
                                },
                                {
                                    "Order_hours": "22",
                                    "Total_Orders": "663"
                                },
                                {
                                    "Order_hours": "23",
                                    "Total_Orders": "28"
                                }
                            ]
                        },
                        "text/html": [
                            "<table>",
                            "<tr><th>Order_hours</th><th>Total_Orders</th></tr>",
                            "<tr><td>9</td><td>1</td></tr>",
                            "<tr><td>10</td><td>8</td></tr>",
                            "<tr><td>11</td><td>1231</td></tr>",
                            "<tr><td>12</td><td>2520</td></tr>",
                            "<tr><td>13</td><td>2455</td></tr>",
                            "<tr><td>14</td><td>1472</td></tr>",
                            "<tr><td>15</td><td>1468</td></tr>",
                            "<tr><td>16</td><td>1920</td></tr>",
                            "<tr><td>17</td><td>2336</td></tr>",
                            "<tr><td>18</td><td>2399</td></tr>",
                            "<tr><td>19</td><td>2009</td></tr>",
                            "<tr><td>20</td><td>1642</td></tr>",
                            "<tr><td>21</td><td>1198</td></tr>",
                            "<tr><td>22</td><td>663</td></tr>",
                            "<tr><td>23</td><td>28</td></tr>",
                            "</table>"
                        ]
                    }
                }
            ],
            "execution_count": 6
        },
        {
            "cell_type": "code",
            "source": [
                "--Weekly Trend for Total Orders\r\n",
                "SELECT DATEPART(ISO_WEEK, order_date) AS Week_Number, YEAR(order_date) AS Order_Year,\r\n",
                "COUNT(DISTINCT order_id) AS total_orders\r\n",
                "FROM pizza_sales\r\n",
                "GROUP BY DATEPART(ISO_WEEK, order_date), YEAR(order_date)\r\n",
                "ORDER BY DATEPART(ISO_WEEK, order_date), YEAR(order_date)"
            ],
            "metadata": {
                "azdata_cell_guid": "f897f5b9-5e42-409c-9d6d-463dcbfa1014",
                "language": "sql"
            },
            "outputs": [
                {
                    "output_type": "display_data",
                    "data": {
                        "text/html": "(53 rows affected)"
                    },
                    "metadata": {}
                },
                {
                    "output_type": "display_data",
                    "data": {
                        "text/html": "Total execution time: 00:00:00.094"
                    },
                    "metadata": {}
                },
                {
                    "output_type": "execute_result",
                    "metadata": {},
                    "execution_count": 7,
                    "data": {
                        "application/vnd.dataresource+json": {
                            "schema": {
                                "fields": [
                                    {
                                        "name": "Week_Number"
                                    },
                                    {
                                        "name": "Order_Year"
                                    },
                                    {
                                        "name": "total_orders"
                                    }
                                ]
                            },
                            "data": [
                                {
                                    "Week_Number": "1",
                                    "Order_Year": "2015",
                                    "total_orders": "254"
                                },
                                {
                                    "Week_Number": "2",
                                    "Order_Year": "2015",
                                    "total_orders": "427"
                                },
                                {
                                    "Week_Number": "3",
                                    "Order_Year": "2015",
                                    "total_orders": "400"
                                },
                                {
                                    "Week_Number": "4",
                                    "Order_Year": "2015",
                                    "total_orders": "415"
                                },
                                {
                                    "Week_Number": "5",
                                    "Order_Year": "2015",
                                    "total_orders": "436"
                                },
                                {
                                    "Week_Number": "6",
                                    "Order_Year": "2015",
                                    "total_orders": "422"
                                },
                                {
                                    "Week_Number": "7",
                                    "Order_Year": "2015",
                                    "total_orders": "423"
                                },
                                {
                                    "Week_Number": "8",
                                    "Order_Year": "2015",
                                    "total_orders": "393"
                                },
                                {
                                    "Week_Number": "9",
                                    "Order_Year": "2015",
                                    "total_orders": "409"
                                },
                                {
                                    "Week_Number": "10",
                                    "Order_Year": "2015",
                                    "total_orders": "420"
                                },
                                {
                                    "Week_Number": "11",
                                    "Order_Year": "2015",
                                    "total_orders": "404"
                                },
                                {
                                    "Week_Number": "12",
                                    "Order_Year": "2015",
                                    "total_orders": "416"
                                },
                                {
                                    "Week_Number": "13",
                                    "Order_Year": "2015",
                                    "total_orders": "427"
                                },
                                {
                                    "Week_Number": "14",
                                    "Order_Year": "2015",
                                    "total_orders": "433"
                                },
                                {
                                    "Week_Number": "15",
                                    "Order_Year": "2015",
                                    "total_orders": "408"
                                },
                                {
                                    "Week_Number": "16",
                                    "Order_Year": "2015",
                                    "total_orders": "414"
                                },
                                {
                                    "Week_Number": "17",
                                    "Order_Year": "2015",
                                    "total_orders": "437"
                                },
                                {
                                    "Week_Number": "18",
                                    "Order_Year": "2015",
                                    "total_orders": "423"
                                },
                                {
                                    "Week_Number": "19",
                                    "Order_Year": "2015",
                                    "total_orders": "399"
                                },
                                {
                                    "Week_Number": "20",
                                    "Order_Year": "2015",
                                    "total_orders": "458"
                                },
                                {
                                    "Week_Number": "21",
                                    "Order_Year": "2015",
                                    "total_orders": "414"
                                },
                                {
                                    "Week_Number": "22",
                                    "Order_Year": "2015",
                                    "total_orders": "390"
                                },
                                {
                                    "Week_Number": "23",
                                    "Order_Year": "2015",
                                    "total_orders": "423"
                                },
                                {
                                    "Week_Number": "24",
                                    "Order_Year": "2015",
                                    "total_orders": "418"
                                },
                                {
                                    "Week_Number": "25",
                                    "Order_Year": "2015",
                                    "total_orders": "410"
                                },
                                {
                                    "Week_Number": "26",
                                    "Order_Year": "2015",
                                    "total_orders": "416"
                                },
                                {
                                    "Week_Number": "27",
                                    "Order_Year": "2015",
                                    "total_orders": "474"
                                },
                                {
                                    "Week_Number": "28",
                                    "Order_Year": "2015",
                                    "total_orders": "417"
                                },
                                {
                                    "Week_Number": "29",
                                    "Order_Year": "2015",
                                    "total_orders": "420"
                                },
                                {
                                    "Week_Number": "30",
                                    "Order_Year": "2015",
                                    "total_orders": "433"
                                },
                                {
                                    "Week_Number": "31",
                                    "Order_Year": "2015",
                                    "total_orders": "419"
                                },
                                {
                                    "Week_Number": "32",
                                    "Order_Year": "2015",
                                    "total_orders": "426"
                                },
                                {
                                    "Week_Number": "33",
                                    "Order_Year": "2015",
                                    "total_orders": "435"
                                },
                                {
                                    "Week_Number": "34",
                                    "Order_Year": "2015",
                                    "total_orders": "407"
                                },
                                {
                                    "Week_Number": "35",
                                    "Order_Year": "2015",
                                    "total_orders": "394"
                                },
                                {
                                    "Week_Number": "36",
                                    "Order_Year": "2015",
                                    "total_orders": "397"
                                },
                                {
                                    "Week_Number": "37",
                                    "Order_Year": "2015",
                                    "total_orders": "435"
                                },
                                {
                                    "Week_Number": "38",
                                    "Order_Year": "2015",
                                    "total_orders": "423"
                                },
                                {
                                    "Week_Number": "39",
                                    "Order_Year": "2015",
                                    "total_orders": "288"
                                },
                                {
                                    "Week_Number": "40",
                                    "Order_Year": "2015",
                                    "total_orders": "433"
                                },
                                {
                                    "Week_Number": "41",
                                    "Order_Year": "2015",
                                    "total_orders": "334"
                                },
                                {
                                    "Week_Number": "42",
                                    "Order_Year": "2015",
                                    "total_orders": "386"
                                },
                                {
                                    "Week_Number": "43",
                                    "Order_Year": "2015",
                                    "total_orders": "352"
                                },
                                {
                                    "Week_Number": "44",
                                    "Order_Year": "2015",
                                    "total_orders": "371"
                                },
                                {
                                    "Week_Number": "45",
                                    "Order_Year": "2015",
                                    "total_orders": "394"
                                },
                                {
                                    "Week_Number": "46",
                                    "Order_Year": "2015",
                                    "total_orders": "400"
                                },
                                {
                                    "Week_Number": "47",
                                    "Order_Year": "2015",
                                    "total_orders": "392"
                                },
                                {
                                    "Week_Number": "48",
                                    "Order_Year": "2015",
                                    "total_orders": "491"
                                },
                                {
                                    "Week_Number": "49",
                                    "Order_Year": "2015",
                                    "total_orders": "424"
                                },
                                {
                                    "Week_Number": "50",
                                    "Order_Year": "2015",
                                    "total_orders": "417"
                                },
                                {
                                    "Week_Number": "51",
                                    "Order_Year": "2015",
                                    "total_orders": "430"
                                },
                                {
                                    "Week_Number": "52",
                                    "Order_Year": "2015",
                                    "total_orders": "298"
                                },
                                {
                                    "Week_Number": "53",
                                    "Order_Year": "2015",
                                    "total_orders": "171"
                                }
                            ]
                        },
                        "text/html": [
                            "<table>",
                            "<tr><th>Week_Number</th><th>Order_Year</th><th>total_orders</th></tr>",
                            "<tr><td>1</td><td>2015</td><td>254</td></tr>",
                            "<tr><td>2</td><td>2015</td><td>427</td></tr>",
                            "<tr><td>3</td><td>2015</td><td>400</td></tr>",
                            "<tr><td>4</td><td>2015</td><td>415</td></tr>",
                            "<tr><td>5</td><td>2015</td><td>436</td></tr>",
                            "<tr><td>6</td><td>2015</td><td>422</td></tr>",
                            "<tr><td>7</td><td>2015</td><td>423</td></tr>",
                            "<tr><td>8</td><td>2015</td><td>393</td></tr>",
                            "<tr><td>9</td><td>2015</td><td>409</td></tr>",
                            "<tr><td>10</td><td>2015</td><td>420</td></tr>",
                            "<tr><td>11</td><td>2015</td><td>404</td></tr>",
                            "<tr><td>12</td><td>2015</td><td>416</td></tr>",
                            "<tr><td>13</td><td>2015</td><td>427</td></tr>",
                            "<tr><td>14</td><td>2015</td><td>433</td></tr>",
                            "<tr><td>15</td><td>2015</td><td>408</td></tr>",
                            "<tr><td>16</td><td>2015</td><td>414</td></tr>",
                            "<tr><td>17</td><td>2015</td><td>437</td></tr>",
                            "<tr><td>18</td><td>2015</td><td>423</td></tr>",
                            "<tr><td>19</td><td>2015</td><td>399</td></tr>",
                            "<tr><td>20</td><td>2015</td><td>458</td></tr>",
                            "<tr><td>21</td><td>2015</td><td>414</td></tr>",
                            "<tr><td>22</td><td>2015</td><td>390</td></tr>",
                            "<tr><td>23</td><td>2015</td><td>423</td></tr>",
                            "<tr><td>24</td><td>2015</td><td>418</td></tr>",
                            "<tr><td>25</td><td>2015</td><td>410</td></tr>",
                            "<tr><td>26</td><td>2015</td><td>416</td></tr>",
                            "<tr><td>27</td><td>2015</td><td>474</td></tr>",
                            "<tr><td>28</td><td>2015</td><td>417</td></tr>",
                            "<tr><td>29</td><td>2015</td><td>420</td></tr>",
                            "<tr><td>30</td><td>2015</td><td>433</td></tr>",
                            "<tr><td>31</td><td>2015</td><td>419</td></tr>",
                            "<tr><td>32</td><td>2015</td><td>426</td></tr>",
                            "<tr><td>33</td><td>2015</td><td>435</td></tr>",
                            "<tr><td>34</td><td>2015</td><td>407</td></tr>",
                            "<tr><td>35</td><td>2015</td><td>394</td></tr>",
                            "<tr><td>36</td><td>2015</td><td>397</td></tr>",
                            "<tr><td>37</td><td>2015</td><td>435</td></tr>",
                            "<tr><td>38</td><td>2015</td><td>423</td></tr>",
                            "<tr><td>39</td><td>2015</td><td>288</td></tr>",
                            "<tr><td>40</td><td>2015</td><td>433</td></tr>",
                            "<tr><td>41</td><td>2015</td><td>334</td></tr>",
                            "<tr><td>42</td><td>2015</td><td>386</td></tr>",
                            "<tr><td>43</td><td>2015</td><td>352</td></tr>",
                            "<tr><td>44</td><td>2015</td><td>371</td></tr>",
                            "<tr><td>45</td><td>2015</td><td>394</td></tr>",
                            "<tr><td>46</td><td>2015</td><td>400</td></tr>",
                            "<tr><td>47</td><td>2015</td><td>392</td></tr>",
                            "<tr><td>48</td><td>2015</td><td>491</td></tr>",
                            "<tr><td>49</td><td>2015</td><td>424</td></tr>",
                            "<tr><td>50</td><td>2015</td><td>417</td></tr>",
                            "<tr><td>51</td><td>2015</td><td>430</td></tr>",
                            "<tr><td>52</td><td>2015</td><td>298</td></tr>",
                            "<tr><td>53</td><td>2015</td><td>171</td></tr>",
                            "</table>"
                        ]
                    }
                }
            ],
            "execution_count": 7
        },
        {
            "cell_type": "code",
            "source": [
                "--Percentage of Sales by Pizza category\r\n",
                "SELECT pizza_category, CAST(SUM(total_price) AS DECIMAL(10,2)) AS Total_revenue,\r\n",
                "CAST(SUM(total_price) * 100 / (SELECT SUM(total_price) FROM pizza_sales)\r\n",
                "AS DECIMAL(10,2)) AS PCT\r\n",
                "FROM pizza_sales\r\n",
                "GROUP BY pizza_category"
            ],
            "metadata": {
                "azdata_cell_guid": "ef05b4e6-c234-48df-851c-2c4f8143cf48",
                "language": "sql"
            },
            "outputs": [
                {
                    "output_type": "display_data",
                    "data": {
                        "text/html": "(4 rows affected)"
                    },
                    "metadata": {}
                },
                {
                    "output_type": "display_data",
                    "data": {
                        "text/html": "Total execution time: 00:00:00.073"
                    },
                    "metadata": {}
                },
                {
                    "output_type": "execute_result",
                    "metadata": {},
                    "execution_count": 8,
                    "data": {
                        "application/vnd.dataresource+json": {
                            "schema": {
                                "fields": [
                                    {
                                        "name": "pizza_category"
                                    },
                                    {
                                        "name": "Total_revenue"
                                    },
                                    {
                                        "name": "PCT"
                                    }
                                ]
                            },
                            "data": [
                                {
                                    "pizza_category": "Classic",
                                    "Total_revenue": "220053.10",
                                    "PCT": "26.91"
                                },
                                {
                                    "pizza_category": "Chicken",
                                    "Total_revenue": "195919.50",
                                    "PCT": "23.96"
                                },
                                {
                                    "pizza_category": "Veggie",
                                    "Total_revenue": "193690.45",
                                    "PCT": "23.68"
                                },
                                {
                                    "pizza_category": "Supreme",
                                    "Total_revenue": "208197.00",
                                    "PCT": "25.46"
                                }
                            ]
                        },
                        "text/html": [
                            "<table>",
                            "<tr><th>pizza_category</th><th>Total_revenue</th><th>PCT</th></tr>",
                            "<tr><td>Classic</td><td>220053.10</td><td>26.91</td></tr>",
                            "<tr><td>Chicken</td><td>195919.50</td><td>23.96</td></tr>",
                            "<tr><td>Veggie</td><td>193690.45</td><td>23.68</td></tr>",
                            "<tr><td>Supreme</td><td>208197.00</td><td>25.46</td></tr>",
                            "</table>"
                        ]
                    }
                }
            ],
            "execution_count": 8
        },
        {
            "cell_type": "code",
            "source": [
                "--Percentage of Sales by Pizza Size\r\n",
                "SELECT pizza_size, CAST(SUM(total_price) AS DECIMAL(10,2)) AS Total_Revenue,\r\n",
                "CAST(SUM(total_price) * 100 / (SELECT SUM(total_price) FROM pizza_sales) \r\n",
                "AS DECIMAL(10,2)) AS PCT\r\n",
                "FROM pizza_sales\r\n",
                "GROUP BY pizza_size\r\n",
                "ORDER BY pizza_size"
            ],
            "metadata": {
                "azdata_cell_guid": "1ce3a7b2-df0e-4e71-81c3-08fe9a9c7e88",
                "language": "sql"
            },
            "outputs": [
                {
                    "output_type": "display_data",
                    "data": {
                        "text/html": "(5 rows affected)"
                    },
                    "metadata": {}
                },
                {
                    "output_type": "display_data",
                    "data": {
                        "text/html": "Total execution time: 00:00:00.081"
                    },
                    "metadata": {}
                },
                {
                    "output_type": "execute_result",
                    "metadata": {},
                    "execution_count": 9,
                    "data": {
                        "application/vnd.dataresource+json": {
                            "schema": {
                                "fields": [
                                    {
                                        "name": "pizza_size"
                                    },
                                    {
                                        "name": "Total_Revenue"
                                    },
                                    {
                                        "name": "PCT"
                                    }
                                ]
                            },
                            "data": [
                                {
                                    "pizza_size": "L",
                                    "Total_Revenue": "375318.70",
                                    "PCT": "45.89"
                                },
                                {
                                    "pizza_size": "M",
                                    "Total_Revenue": "249382.25",
                                    "PCT": "30.49"
                                },
                                {
                                    "pizza_size": "S",
                                    "Total_Revenue": "178076.50",
                                    "PCT": "21.77"
                                },
                                {
                                    "pizza_size": "XL",
                                    "Total_Revenue": "14076.00",
                                    "PCT": "1.72"
                                },
                                {
                                    "pizza_size": "XXL",
                                    "Total_Revenue": "1006.60",
                                    "PCT": "0.12"
                                }
                            ]
                        },
                        "text/html": [
                            "<table>",
                            "<tr><th>pizza_size</th><th>Total_Revenue</th><th>PCT</th></tr>",
                            "<tr><td>L</td><td>375318.70</td><td>45.89</td></tr>",
                            "<tr><td>M</td><td>249382.25</td><td>30.49</td></tr>",
                            "<tr><td>S</td><td>178076.50</td><td>21.77</td></tr>",
                            "<tr><td>XL</td><td>14076.00</td><td>1.72</td></tr>",
                            "<tr><td>XXL</td><td>1006.60</td><td>0.12</td></tr>",
                            "</table>"
                        ]
                    }
                }
            ],
            "execution_count": 9
        },
        {
            "cell_type": "code",
            "source": [
                "--Top 5 Best Sellers by Revenue\r\n",
                "SELECT TOP 5 pizza_name, SUM(total_price) AS Total_Revenue\r\n",
                "FROM pizza_sales\r\n",
                "GROUP BY pizza_name\r\n",
                "ORDER BY Total_Revenue DESC"
            ],
            "metadata": {
                "azdata_cell_guid": "ed2b52c8-8557-428e-b112-5808478305a2",
                "language": "sql"
            },
            "outputs": [
                {
                    "output_type": "display_data",
                    "data": {
                        "text/html": "(5 rows affected)"
                    },
                    "metadata": {}
                },
                {
                    "output_type": "display_data",
                    "data": {
                        "text/html": "Total execution time: 00:00:00.076"
                    },
                    "metadata": {}
                },
                {
                    "output_type": "execute_result",
                    "metadata": {},
                    "execution_count": 10,
                    "data": {
                        "application/vnd.dataresource+json": {
                            "schema": {
                                "fields": [
                                    {
                                        "name": "pizza_name"
                                    },
                                    {
                                        "name": "Total_Revenue"
                                    }
                                ]
                            },
                            "data": [
                                {
                                    "pizza_name": "The Thai Chicken Pizza",
                                    "Total_Revenue": "43434.25"
                                },
                                {
                                    "pizza_name": "The Barbecue Chicken Pizza",
                                    "Total_Revenue": "42768"
                                },
                                {
                                    "pizza_name": "The California Chicken Pizza",
                                    "Total_Revenue": "41409.5"
                                },
                                {
                                    "pizza_name": "The Classic Deluxe Pizza",
                                    "Total_Revenue": "38180.5"
                                },
                                {
                                    "pizza_name": "The Spicy Italian Pizza",
                                    "Total_Revenue": "34831.25"
                                }
                            ]
                        },
                        "text/html": [
                            "<table>",
                            "<tr><th>pizza_name</th><th>Total_Revenue</th></tr>",
                            "<tr><td>The Thai Chicken Pizza</td><td>43434.25</td></tr>",
                            "<tr><td>The Barbecue Chicken Pizza</td><td>42768</td></tr>",
                            "<tr><td>The California Chicken Pizza</td><td>41409.5</td></tr>",
                            "<tr><td>The Classic Deluxe Pizza</td><td>38180.5</td></tr>",
                            "<tr><td>The Spicy Italian Pizza</td><td>34831.25</td></tr>",
                            "</table>"
                        ]
                    }
                }
            ],
            "execution_count": 10
        },
        {
            "cell_type": "code",
            "source": [
                "--Bottom 5 Best Sellers by Revenue\r\n",
                "SELECT TOP 5 pizza_name, SUM(total_price) AS Total_Revenue\r\n",
                "FROM pizza_sales\r\n",
                "GROUP BY pizza_name\r\n",
                "ORDER BY Total_Revenue ASC"
            ],
            "metadata": {
                "azdata_cell_guid": "bc01b384-5ce3-43d5-96aa-aec82cc66f4a",
                "language": "sql"
            },
            "outputs": [
                {
                    "output_type": "display_data",
                    "data": {
                        "text/html": "(5 rows affected)"
                    },
                    "metadata": {}
                },
                {
                    "output_type": "display_data",
                    "data": {
                        "text/html": "Total execution time: 00:00:00.061"
                    },
                    "metadata": {}
                },
                {
                    "output_type": "execute_result",
                    "metadata": {},
                    "execution_count": 11,
                    "data": {
                        "application/vnd.dataresource+json": {
                            "schema": {
                                "fields": [
                                    {
                                        "name": "pizza_name"
                                    },
                                    {
                                        "name": "Total_Revenue"
                                    }
                                ]
                            },
                            "data": [
                                {
                                    "pizza_name": "The Brie Carre Pizza",
                                    "Total_Revenue": "11588.499813079834"
                                },
                                {
                                    "pizza_name": "The Green Garden Pizza",
                                    "Total_Revenue": "13955.75"
                                },
                                {
                                    "pizza_name": "The Spinach Supreme Pizza",
                                    "Total_Revenue": "15277.75"
                                },
                                {
                                    "pizza_name": "The Mediterranean Pizza",
                                    "Total_Revenue": "15360.5"
                                },
                                {
                                    "pizza_name": "The Spinach Pesto Pizza",
                                    "Total_Revenue": "15596"
                                }
                            ]
                        },
                        "text/html": [
                            "<table>",
                            "<tr><th>pizza_name</th><th>Total_Revenue</th></tr>",
                            "<tr><td>The Brie Carre Pizza</td><td>11588.499813079834</td></tr>",
                            "<tr><td>The Green Garden Pizza</td><td>13955.75</td></tr>",
                            "<tr><td>The Spinach Supreme Pizza</td><td>15277.75</td></tr>",
                            "<tr><td>The Mediterranean Pizza</td><td>15360.5</td></tr>",
                            "<tr><td>The Spinach Pesto Pizza</td><td>15596</td></tr>",
                            "</table>"
                        ]
                    }
                }
            ],
            "execution_count": 11
        },
        {
            "cell_type": "code",
            "source": [
                "--Top 5 Best Sellers by Total Quantity \r\n",
                "SELECT TOP 5 pizza_name, SUM(quantity) AS Total_Quantity\r\n",
                "FROM pizza_sales\r\n",
                "GROUP BY pizza_name\r\n",
                "ORDER BY Total_Quantity DESC"
            ],
            "metadata": {
                "azdata_cell_guid": "ddc18332-a060-4b31-a465-d02b81f97fce",
                "language": "sql"
            },
            "outputs": [
                {
                    "output_type": "display_data",
                    "data": {
                        "text/html": "(5 rows affected)"
                    },
                    "metadata": {}
                },
                {
                    "output_type": "display_data",
                    "data": {
                        "text/html": "Total execution time: 00:00:00.071"
                    },
                    "metadata": {}
                },
                {
                    "output_type": "execute_result",
                    "metadata": {},
                    "execution_count": 12,
                    "data": {
                        "application/vnd.dataresource+json": {
                            "schema": {
                                "fields": [
                                    {
                                        "name": "pizza_name"
                                    },
                                    {
                                        "name": "Total_Quantity"
                                    }
                                ]
                            },
                            "data": [
                                {
                                    "pizza_name": "The Classic Deluxe Pizza",
                                    "Total_Quantity": "2453"
                                },
                                {
                                    "pizza_name": "The Barbecue Chicken Pizza",
                                    "Total_Quantity": "2432"
                                },
                                {
                                    "pizza_name": "The Hawaiian Pizza",
                                    "Total_Quantity": "2422"
                                },
                                {
                                    "pizza_name": "The Pepperoni Pizza",
                                    "Total_Quantity": "2418"
                                },
                                {
                                    "pizza_name": "The Thai Chicken Pizza",
                                    "Total_Quantity": "2371"
                                }
                            ]
                        },
                        "text/html": [
                            "<table>",
                            "<tr><th>pizza_name</th><th>Total_Quantity</th></tr>",
                            "<tr><td>The Classic Deluxe Pizza</td><td>2453</td></tr>",
                            "<tr><td>The Barbecue Chicken Pizza</td><td>2432</td></tr>",
                            "<tr><td>The Hawaiian Pizza</td><td>2422</td></tr>",
                            "<tr><td>The Pepperoni Pizza</td><td>2418</td></tr>",
                            "<tr><td>The Thai Chicken Pizza</td><td>2371</td></tr>",
                            "</table>"
                        ]
                    }
                }
            ],
            "execution_count": 12
        },
        {
            "cell_type": "code",
            "source": [
                "--Bottom 5 Best Sellers by Total Quantity \r\n",
                "SELECT TOP 5 pizza_name, SUM(quantity) AS Total_Quantity\r\n",
                "FROM pizza_sales\r\n",
                "GROUP BY pizza_name\r\n",
                "ORDER BY Total_Quantity ASC"
            ],
            "metadata": {
                "azdata_cell_guid": "799c2445-9133-4f1f-9b5d-b12b82dcb1e7",
                "language": "sql"
            },
            "outputs": [
                {
                    "output_type": "display_data",
                    "data": {
                        "text/html": "(5 rows affected)"
                    },
                    "metadata": {}
                },
                {
                    "output_type": "display_data",
                    "data": {
                        "text/html": "Total execution time: 00:00:00.064"
                    },
                    "metadata": {}
                },
                {
                    "output_type": "execute_result",
                    "metadata": {},
                    "execution_count": 13,
                    "data": {
                        "application/vnd.dataresource+json": {
                            "schema": {
                                "fields": [
                                    {
                                        "name": "pizza_name"
                                    },
                                    {
                                        "name": "Total_Quantity"
                                    }
                                ]
                            },
                            "data": [
                                {
                                    "pizza_name": "The Brie Carre Pizza",
                                    "Total_Quantity": "490"
                                },
                                {
                                    "pizza_name": "The Mediterranean Pizza",
                                    "Total_Quantity": "934"
                                },
                                {
                                    "pizza_name": "The Calabrese Pizza",
                                    "Total_Quantity": "937"
                                },
                                {
                                    "pizza_name": "The Spinach Supreme Pizza",
                                    "Total_Quantity": "950"
                                },
                                {
                                    "pizza_name": "The Soppressata Pizza",
                                    "Total_Quantity": "961"
                                }
                            ]
                        },
                        "text/html": [
                            "<table>",
                            "<tr><th>pizza_name</th><th>Total_Quantity</th></tr>",
                            "<tr><td>The Brie Carre Pizza</td><td>490</td></tr>",
                            "<tr><td>The Mediterranean Pizza</td><td>934</td></tr>",
                            "<tr><td>The Calabrese Pizza</td><td>937</td></tr>",
                            "<tr><td>The Spinach Supreme Pizza</td><td>950</td></tr>",
                            "<tr><td>The Soppressata Pizza</td><td>961</td></tr>",
                            "</table>"
                        ]
                    }
                }
            ],
            "execution_count": 13
        },
        {
            "cell_type": "code",
            "source": [
                "--Top 5 Best Sellers by Total Orders\r\n",
                "SELECT TOP 5 pizza_name, COUNT(DISTINCT order_id) AS Total_Orders\r\n",
                "FROM pizza_sales\r\n",
                "GROUP BY pizza_name\r\n",
                "ORDER BY Total_Orders DESC"
            ],
            "metadata": {
                "azdata_cell_guid": "e717d392-d8de-497f-9ff9-b4cae58b3eef",
                "language": "sql"
            },
            "outputs": [
                {
                    "output_type": "display_data",
                    "data": {
                        "text/html": "(5 rows affected)"
                    },
                    "metadata": {}
                },
                {
                    "output_type": "display_data",
                    "data": {
                        "text/html": "Total execution time: 00:00:00.102"
                    },
                    "metadata": {}
                },
                {
                    "output_type": "execute_result",
                    "metadata": {},
                    "execution_count": 14,
                    "data": {
                        "application/vnd.dataresource+json": {
                            "schema": {
                                "fields": [
                                    {
                                        "name": "pizza_name"
                                    },
                                    {
                                        "name": "Total_Orders"
                                    }
                                ]
                            },
                            "data": [
                                {
                                    "pizza_name": "The Classic Deluxe Pizza",
                                    "Total_Orders": "2329"
                                },
                                {
                                    "pizza_name": "The Hawaiian Pizza",
                                    "Total_Orders": "2280"
                                },
                                {
                                    "pizza_name": "The Pepperoni Pizza",
                                    "Total_Orders": "2278"
                                },
                                {
                                    "pizza_name": "The Barbecue Chicken Pizza",
                                    "Total_Orders": "2273"
                                },
                                {
                                    "pizza_name": "The Thai Chicken Pizza",
                                    "Total_Orders": "2225"
                                }
                            ]
                        },
                        "text/html": [
                            "<table>",
                            "<tr><th>pizza_name</th><th>Total_Orders</th></tr>",
                            "<tr><td>The Classic Deluxe Pizza</td><td>2329</td></tr>",
                            "<tr><td>The Hawaiian Pizza</td><td>2280</td></tr>",
                            "<tr><td>The Pepperoni Pizza</td><td>2278</td></tr>",
                            "<tr><td>The Barbecue Chicken Pizza</td><td>2273</td></tr>",
                            "<tr><td>The Thai Chicken Pizza</td><td>2225</td></tr>",
                            "</table>"
                        ]
                    }
                }
            ],
            "execution_count": 14
        },
        {
            "cell_type": "code",
            "source": [
                "--Bottom 5 Best Sellers by Total Orders\r\n",
                "SELECT TOP 5 pizza_name, COUNT(DISTINCT order_id) AS Total_Orders\r\n",
                "FROM pizza_sales\r\n",
                "GROUP BY pizza_name\r\n",
                "ORDER BY Total_Orders ASC"
            ],
            "metadata": {
                "azdata_cell_guid": "1c205b75-7254-4e83-a050-a622c276fd82",
                "language": "sql"
            },
            "outputs": [
                {
                    "output_type": "display_data",
                    "data": {
                        "text/html": "(5 rows affected)"
                    },
                    "metadata": {}
                },
                {
                    "output_type": "display_data",
                    "data": {
                        "text/html": "Total execution time: 00:00:00.126"
                    },
                    "metadata": {}
                },
                {
                    "output_type": "execute_result",
                    "metadata": {},
                    "execution_count": 15,
                    "data": {
                        "application/vnd.dataresource+json": {
                            "schema": {
                                "fields": [
                                    {
                                        "name": "pizza_name"
                                    },
                                    {
                                        "name": "Total_Orders"
                                    }
                                ]
                            },
                            "data": [
                                {
                                    "pizza_name": "The Brie Carre Pizza",
                                    "Total_Orders": "480"
                                },
                                {
                                    "pizza_name": "The Mediterranean Pizza",
                                    "Total_Orders": "912"
                                },
                                {
                                    "pizza_name": "The Spinach Supreme Pizza",
                                    "Total_Orders": "918"
                                },
                                {
                                    "pizza_name": "The Calabrese Pizza",
                                    "Total_Orders": "918"
                                },
                                {
                                    "pizza_name": "The Chicken Pesto Pizza",
                                    "Total_Orders": "938"
                                }
                            ]
                        },
                        "text/html": [
                            "<table>",
                            "<tr><th>pizza_name</th><th>Total_Orders</th></tr>",
                            "<tr><td>The Brie Carre Pizza</td><td>480</td></tr>",
                            "<tr><td>The Mediterranean Pizza</td><td>912</td></tr>",
                            "<tr><td>The Spinach Supreme Pizza</td><td>918</td></tr>",
                            "<tr><td>The Calabrese Pizza</td><td>918</td></tr>",
                            "<tr><td>The Chicken Pesto Pizza</td><td>938</td></tr>",
                            "</table>"
                        ]
                    }
                }
            ],
            "execution_count": 15
        }
    ]
}